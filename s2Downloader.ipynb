{
 "cells": [
  {
   "cell_type": "code",
   "execution_count": 133,
   "id": "characteristic-dylan",
   "metadata": {},
   "outputs": [],
   "source": [
    "\"\"\"Import Python Modules\"\"\"\n",
    "import os\n",
    "import sys\n",
    "import numpy\n",
    "\n",
    "from sentinelsat.sentinel import SentinelAPI, read_geojson, geojson_to_wkt"
   ]
  },
  {
   "cell_type": "code",
   "execution_count": 134,
   "id": "sensitive-kazakhstan",
   "metadata": {},
   "outputs": [],
   "source": [
    "class LoginDetails():\n",
    "\n",
    "    def __init__(self, username, password):\n",
    "        self.username = username\n",
    "        self.password = password\n",
    "    \n",
    "    def _sentinelAPI(self):\n",
    "        return SentinelAPI(self.username, self.password, 'https://scihub.copernicus.eu/dhus')"
   ]
  },
  {
   "cell_type": "code",
   "execution_count": 135,
   "id": "sealed-hygiene",
   "metadata": {},
   "outputs": [],
   "source": [
    "class FootPrint():\n",
    "    def do_convertToGeojson(self, footprint):\n",
    "        self.footprint = footprint\n",
    "        return geojson_to_wkt(read_geojson(footprint))"
   ]
  },
  {
   "cell_type": "code",
   "execution_count": 136,
   "id": "naughty-fight",
   "metadata": {},
   "outputs": [],
   "source": [
    "class S2Downloader():\n",
    "    def __init__(self, api):\n",
    "        self.api = api\n",
    "      \n",
    "    def do_queryProduct(self, footprint, startDate, endDate, processingLevel):\n",
    "        self.footprint = footprint\n",
    "        self.startDate = startDate\n",
    "        self.endDate = endDate\n",
    "        self.paltfornname = platformName\n",
    "        self.processinglevel = processingLevel\n",
    "        \n",
    "        return self.api.query(footprint, \n",
    "                        date = (startDate, endDate),\n",
    "                        platformname = 'Sentinel-2',\n",
    "                        processinglevel = processingLevel,\n",
    "                        cloudcoverpercentage = (0, 100))\n",
    "    \n",
    "    def do_filterProduct(self, product, tileName):\n",
    "        self.product = product\n",
    "        self.tileName = tileName\n",
    "        \n",
    "        s2tiles = [] \n",
    "        name = self.api.to_dataframe(product)['title']\n",
    "        count = 0\n",
    "        for tile in name:\n",
    "            if tile.split(\"_\")[5] == tileName:\n",
    "                s2tiles.append(name.index[count])\n",
    "            count += 1\n",
    "        \n",
    "        return s2tiles"
   ]
  },
  {
   "cell_type": "code",
   "execution_count": 140,
   "id": "hazardous-preference",
   "metadata": {},
   "outputs": [],
   "source": [
    "class S3Downloader():\n",
    "    def __init__(self, api):\n",
    "        self.api = api\n",
    "    \n",
    "    def do_queryProduct(self, footprint, startDate, endDate, productType):\n",
    "        self.footprint = footprint\n",
    "        self.startDate = startDate\n",
    "        self.endDate = endDate\n",
    "        self.productType = productType\n",
    "        \n",
    "        return self.api.query(footprint,\n",
    "                        date = (startDate, endDate),\n",
    "                        platformname = 'Sentinel-3',\n",
    "                        producttype = productType)"
   ]
  },
  {
   "cell_type": "code",
   "execution_count": 151,
   "id": "early-registrar",
   "metadata": {},
   "outputs": [],
   "source": [
    "def main():\n",
    "    boundary = r'D:\\\\MapABLE\\\\Landcover Mapping\\\\Shapefile\\\\manilaBayWatershed_boundary.geojson'\n",
    "    username = 'chriscandido93'\n",
    "    password = 'nvenesyn5868'\n",
    "\n",
    "    login = LoginDetails(username, password)\n",
    "\n",
    "    api = login._sentinelAPI()\n",
    "    footprint = FootPrint().do_convertToGeojson(boundary)\n",
    "    \n",
    "    \n",
    "    ##product = S2Downloader(api).do_queryProduct(footprint, '20200101', '20200131', 'Level-2A')\n",
    "    ##filterProduct = S2Downloader(api).do_filterProduct(product, 'T51PUR')\n",
    "    s3Product = S3Downloader(api).do_queryProduct(footprint, '20200101', '20200330', 'OL_1_EFR___')"
   ]
  },
  {
   "cell_type": "code",
   "execution_count": 152,
   "id": "modular-pickup",
   "metadata": {},
   "outputs": [
    {
     "name": "stdout",
     "output_type": "stream",
     "text": [
      "c32ad201-291a-40e0-afe4-735f11db3c4e    S3B_OL_1_EFR____20200329T013234_20200329T01353...\n",
      "81756d01-e15d-4514-a733-cd848c68fcfe    S3A_OL_1_EFR____20200329T021206_20200329T02150...\n",
      "06351532-973b-4bbd-bfd9-56feb3ceb095    S3B_OL_1_EFR____20200328T015844_20200328T02014...\n",
      "be9463ce-85ad-4caa-b8f5-7d008250cdf2    S3A_OL_1_EFR____20200326T014939_20200326T01523...\n",
      "dbfdca91-2696-4c46-9ceb-9f5e3f9dab0a    S3A_OL_1_EFR____20200325T021550_20200325T02185...\n",
      "                                                              ...                        \n",
      "2d4c954f-80ea-4fc0-9685-9ca0f3b77d3f    S3A_OL_1_EFR____20200104T021547_20200104T02184...\n",
      "eba5d250-bc25-4385-92f5-17611d4f3a84    S3B_OL_1_EFR____20200104T013616_20200104T01391...\n",
      "48c866ab-e1cd-4569-b0c5-262e2ac85119    S3B_OL_1_EFR____20200103T020227_20200103T02052...\n",
      "c82e137f-4abd-493c-ab2e-4f90f0139664    S3A_OL_1_EFR____20200102T012710_20200102T01301...\n",
      "4ec8e27d-9019-4928-a31e-b3c9d2765795    S3A_OL_1_EFR____20200101T015321_20200101T01562...\n",
      "Name: title, Length: 99, dtype: object\n"
     ]
    }
   ],
   "source": [
    "if __name__==\"__main__\":\n",
    "    main()"
   ]
  },
  {
   "cell_type": "code",
   "execution_count": null,
   "id": "relative-nickel",
   "metadata": {},
   "outputs": [],
   "source": []
  }
 ],
 "metadata": {
  "kernelspec": {
   "display_name": "Python 3",
   "language": "python",
   "name": "python3"
  },
  "language_info": {
   "codemirror_mode": {
    "name": "ipython",
    "version": 3
   },
   "file_extension": ".py",
   "mimetype": "text/x-python",
   "name": "python",
   "nbconvert_exporter": "python",
   "pygments_lexer": "ipython3",
   "version": "3.8.5"
  }
 },
 "nbformat": 4,
 "nbformat_minor": 5
}
